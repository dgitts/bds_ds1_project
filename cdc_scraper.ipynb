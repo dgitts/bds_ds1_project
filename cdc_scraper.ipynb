{
 "cells": [
  {
   "cell_type": "code",
   "execution_count": 2,
   "metadata": {},
   "outputs": [],
   "source": [
    "import re\n",
    "import pandas as pd\n",
    "import requests\n",
    "from selenium import webdriver\n",
    "from bs4 import BeautifulSoup\n",
    "from selenium.webdriver.support.ui import WebDriverWait\n",
    "from selenium.webdriver.support import expected_conditions as EC\n",
    "from selenium.webdriver.common.by import By\n",
    "from datetime import date\n",
    "\n",
    "# Scrape url using Selenium webdriver\n",
    "url = 'https://www.cdc.gov/coronavirus/2019-ncov/cases-updates/county-map.html?state=TX'\n",
    "driver = webdriver.Chrome(executable_path='chromedriver/chromedriver.exe')\n",
    "driver.get(url)\n",
    "wait = WebDriverWait(driver, 10)\n",
    "datestamp = date.today().strftime(\"%Y%m%d\")\n",
    "# soup = BeautifulSoup(driver.page_source, 'html.parser')\n",
    "\n",
    "# Fetch header\n",
    "header = []\n",
    "header.append('Date')\n",
    "for row in driver.find_elements_by_xpath('//*[@id=\"state-accessibility-table\"]/thead/tr/th'):\n",
    "    header.append(row.text)\n",
    "\n",
    "# Fetch county covid data\n",
    "county_data = []\n",
    "for row in driver.find_elements_by_xpath('//*[@id=\"state-accessibility-table\"]/tbody/tr'):\n",
    "    row = [td.text for td in row.find_elements_by_xpath('.//td')]\n",
    "    # Clean row data\n",
    "    row[1] = row[1].replace(',', '')\n",
    "    row[1] = row[1].replace('<20', '0') \n",
    "    row[1] = int(row[1])\n",
    "    \n",
    "    row[2] = row[2].replace('%', '')\n",
    "    row[2] = row[2].replace('Not Calculated', '0')\n",
    "    row[2] = float(row[2])\n",
    "    \n",
    "    row[3] = row[3].replace(',', '')\n",
    "    row[3] = row[3].replace('Not Calculated', '0')\n",
    "    row[3] = int(row[3])\n",
    "    \n",
    "    row[4] = row[4].replace('<20', '0')\n",
    "    row[4] = int(row[4])\n",
    "    # Add timestamp\n",
    "    row.insert(0, datestamp)\n",
    "    \n",
    "    # Add row to county data list\n",
    "    county_data.append(row)\n",
    "\n",
    "# Save data in Pandas Dataframe\n",
    "df = pd.DataFrame(county_data,columns=header)\n",
    "df.head()\n",
    "\n",
    "# Export dataframe to csv\n",
    "filename = 'county_covid_data_{}.csv'.format(datestamp)\n",
    "df.to_csv(r'data/' + filename, index = False)\n",
    "\n",
    "# CDC Total Cases & Total Deaths for some counties was recorded as <20, for these column values we convert the <20 to 0.\n",
    "# So, when translating the data for these column values we should label them as 0 - 19"
   ]
  },
  {
   "cell_type": "code",
   "execution_count": null,
   "metadata": {},
   "outputs": [],
   "source": [
    "import sqlite3\n",
    "\n",
    "# create local sqlite db\n",
    "# create covid_county_data table\n",
    "# add csv files from above into the covid_county_data table"
   ]
  }
 ],
 "metadata": {
  "kernelspec": {
   "display_name": "Python 3",
   "language": "python",
   "name": "python3"
  },
  "language_info": {
   "codemirror_mode": {
    "name": "ipython",
    "version": 3
   },
   "file_extension": ".py",
   "mimetype": "text/x-python",
   "name": "python",
   "nbconvert_exporter": "python",
   "pygments_lexer": "ipython3",
   "version": "3.7.6"
  }
 },
 "nbformat": 4,
 "nbformat_minor": 4
}
